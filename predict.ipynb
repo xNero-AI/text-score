{
 "cells": [
  {
   "cell_type": "code",
   "execution_count": 1,
   "metadata": {},
   "outputs": [
    {
     "name": "stderr",
     "output_type": "stream",
     "text": [
      "c:\\Users\\gabri\\anaconda3\\envs\\nlp_dl\\lib\\site-packages\\tqdm\\auto.py:21: TqdmWarning: IProgress not found. Please update jupyter and ipywidgets. See https://ipywidgets.readthedocs.io/en/stable/user_install.html\n",
      "  from .autonotebook import tqdm as notebook_tqdm\n"
     ]
    }
   ],
   "source": [
    "from tools.tokenizer import *\n",
    "from tools.datasets import *\n",
    "from tools.models import *\n",
    "from tqdm import tqdm "
   ]
  },
  {
   "cell_type": "code",
   "execution_count": 5,
   "metadata": {},
   "outputs": [],
   "source": [
    "dataset_train, dataset_test, tokenizer = get_dataset_fake()\n",
    "train_loader = DataLoader(dataset_train, \n",
    "                          batch_size=1, \n",
    "                          shuffle=True)"
   ]
  },
  {
   "cell_type": "code",
   "execution_count": 7,
   "metadata": {},
   "outputs": [
    {
     "name": "stderr",
     "output_type": "stream",
     "text": [
      "C:\\Users\\gabri\\AppData\\Local\\Temp\\ipykernel_24916\\1939170610.py:4: FutureWarning: You are using `torch.load` with `weights_only=False` (the current default value), which uses the default pickle module implicitly. It is possible to construct malicious pickle data which will execute arbitrary code during unpickling (See https://github.com/pytorch/pytorch/blob/main/SECURITY.md#untrusted-models for more details). In a future release, the default value for `weights_only` will be flipped to `True`. This limits the functions that could be executed during unpickling. Arbitrary objects will no longer be allowed to be loaded via this mode unless they are explicitly allowlisted by the user via `torch.serialization.add_safe_globals`. We recommend you start setting `weights_only=True` for any use case where you don't have full control of the loaded file. Please open an issue on GitHub for any issues related to this experimental feature.\n",
      "  loaded_model.load_state_dict(torch.load('./saved_models/model.pth'))\n"
     ]
    },
    {
     "data": {
      "text/plain": [
       "([975.12939453125,\n",
       "  705.8336791992188,\n",
       "  734.2213134765625,\n",
       "  780.4610595703125,\n",
       "  588.8346557617188,\n",
       "  1110.27197265625,\n",
       "  1241.2952880859375,\n",
       "  896.0108032226562,\n",
       "  795.94873046875,\n",
       "  524.540283203125],\n",
       " [tensor([800]),\n",
       "  tensor([900]),\n",
       "  tensor([800]),\n",
       "  tensor([650]),\n",
       "  tensor([850]),\n",
       "  tensor([920]),\n",
       "  tensor([800]),\n",
       "  tensor([800]),\n",
       "  tensor([1000]),\n",
       "  tensor([800])])"
      ]
     },
     "execution_count": 7,
     "metadata": {},
     "output_type": "execute_result"
    }
   ],
   "source": [
    "# Load torch model\n",
    "\n",
    "loaded_model = MyRegressor(tokenizer.vocab_size, 128, 128, 1)\n",
    "loaded_model.load_state_dict(torch.load('./saved_models/model.pth'))\n",
    "\n",
    "reds = [train_loader.dataset[i][0] for i in range(10)]\n",
    "y_true = [train_loader.dataset[i][1] for i in range(10)]\n",
    "y_pred = [loaded_model(x.reshape(1, -1).to('cpu')).item() for x in reds]\n",
    "\n",
    "y_pred, y_true"
   ]
  },
  {
   "cell_type": "code",
   "execution_count": 18,
   "metadata": {},
   "outputs": [],
   "source": [
    "redacao_exemplo = \"\"\"\n",
    "Tema: Impacto da tecnologia na educação: desafios e oportunidades\n",
    "\n",
    "Redação: A tecnologia tem se tornado uma aliada indispensável no campo educacional, oferecendo inúmeras oportunidades de inovação e acesso ao conhecimento. No entanto, a implementação de recursos tecnológicos nas escolas brasileiras enfrenta desafios significativos, como a desigualdade no acesso à internet e a falta de capacitação dos professores. A pandemia de COVID-19 evidenciou a importância da tecnologia na educação, mas também expôs a vulnerabilidade de muitos alunos que não possuem os meios necessários para acompanhar o ensino remoto. Além disso, a formação inadequada dos educadores para utilizar ferramentas digitais limita o potencial transformador da tecnologia. Portanto, é essencial que políticas públicas sejam desenvolvidas para garantir a infraestrutura tecnológica adequada e a formação contínua dos professores, a fim de democratizar o acesso ao ensino de qualidade e preparar os estudantes para um futuro cada vez mais digital.\n",
    "\n",
    "\"\"\"\n",
    "\n",
    "nota_exemplo = 800"
   ]
  },
  {
   "cell_type": "code",
   "execution_count": 19,
   "metadata": {},
   "outputs": [
    {
     "data": {
      "text/plain": [
       "tensor([[1266,  134,  561, 1111, 1199, 1728, 1980, 1920,   51,   17,  101, 1111,\n",
       "         1362, 1756, 1016,  795,  784, 1579, 1429, 1228,  885,  793, 2092,   51,\n",
       "          247,   55, 1920, 1313, 2108,  169, 1429, 1131,  101, 1632,  247, 1196,\n",
       "          668,  414,  746,  365, 1832, 1980,   40, 2070,  101, 1463, 1429, 1313,\n",
       "          364,  333, 1920,  101, 1976,  247,  764,  637, 2244,  101, 1449,  247,\n",
       "         1194, 2008,  930,  101,  321,  561, 1111, 1199, 1728, 1771,  382, 1786,\n",
       "          101, 1690,  247, 1195, 1315,  860, 1119, 1363, 1672,  285, 1961,  735,\n",
       "         1567, 1085,  769, 1930,  231, 2090,  101,  363,  539,  637, 1863,  735,\n",
       "         1261, 2049,  244,  857, 1085, 1094, 2147,  561, 1111, 1869,  814,  770,\n",
       "          860, 1848,  940,  712, 2031,  735, 1383,  101, 2214, 1556,  535, 1920,\n",
       "          101,  363,  819,  637, 2244,  101, 1816,  247]])"
      ]
     },
     "execution_count": 19,
     "metadata": {},
     "output_type": "execute_result"
    }
   ],
   "source": [
    "torch.tensor([tokenizer(redacao_exemplo)])"
   ]
  },
  {
   "cell_type": "code",
   "execution_count": 20,
   "metadata": {},
   "outputs": [],
   "source": [
    "redacao_tokenizada = torch.tensor([tokenizer(redacao_exemplo)])"
   ]
  },
  {
   "cell_type": "code",
   "execution_count": 21,
   "metadata": {},
   "outputs": [
    {
     "data": {
      "text/plain": [
       "tensor([[[736.2334]]], grad_fn=<ViewBackward0>)"
      ]
     },
     "execution_count": 21,
     "metadata": {},
     "output_type": "execute_result"
    }
   ],
   "source": [
    "loaded_model(redacao_tokenizada)"
   ]
  }
 ],
 "metadata": {
  "kernelspec": {
   "display_name": "nlp_dl",
   "language": "python",
   "name": "python3"
  },
  "language_info": {
   "codemirror_mode": {
    "name": "ipython",
    "version": 3
   },
   "file_extension": ".py",
   "mimetype": "text/x-python",
   "name": "python",
   "nbconvert_exporter": "python",
   "pygments_lexer": "ipython3",
   "version": "3.10.15"
  }
 },
 "nbformat": 4,
 "nbformat_minor": 2
}
